{
 "cells": [
  {
   "cell_type": "code",
   "execution_count": null,
   "id": "de6bdcd3",
   "metadata": {},
   "outputs": [],
   "source": [
    "import pandas as pd\n",
    "import numpy as np\n",
    "import matplotlib.pyplot as plt\n",
    "import seaborn as sns"
   ]
  },
  {
   "cell_type": "markdown",
   "id": "bfeef695",
   "metadata": {},
   "source": [
    "**Data import and exploration**"
   ]
  },
  {
   "cell_type": "code",
   "execution_count": null,
   "id": "5a89dd31",
   "metadata": {},
   "outputs": [
    {
     "data": {
      "text/html": [
       "<div>\n",
       "<style scoped>\n",
       "    .dataframe tbody tr th:only-of-type {\n",
       "        vertical-align: middle;\n",
       "    }\n",
       "\n",
       "    .dataframe tbody tr th {\n",
       "        vertical-align: top;\n",
       "    }\n",
       "\n",
       "    .dataframe thead th {\n",
       "        text-align: right;\n",
       "    }\n",
       "</style>\n",
       "<table border=\"1\" class=\"dataframe\">\n",
       "  <thead>\n",
       "    <tr style=\"text-align: right;\">\n",
       "      <th></th>\n",
       "      <th>customer_id</th>\n",
       "      <th>gender</th>\n",
       "      <th>age</th>\n",
       "      <th>city</th>\n",
       "      <th>signup_date</th>\n",
       "      <th>order_id</th>\n",
       "      <th>order_date</th>\n",
       "      <th>restaurant_name</th>\n",
       "      <th>dish_name</th>\n",
       "      <th>category</th>\n",
       "      <th>quantity</th>\n",
       "      <th>price</th>\n",
       "      <th>payment_method</th>\n",
       "      <th>order_frequency</th>\n",
       "      <th>last_order_date</th>\n",
       "      <th>loyalty_points</th>\n",
       "      <th>churned</th>\n",
       "      <th>rating</th>\n",
       "      <th>rating_date</th>\n",
       "      <th>delivery_status</th>\n",
       "    </tr>\n",
       "  </thead>\n",
       "  <tbody>\n",
       "    <tr>\n",
       "      <th>0</th>\n",
       "      <td>C5663</td>\n",
       "      <td>Male</td>\n",
       "      <td>Adult</td>\n",
       "      <td>Peshawar</td>\n",
       "      <td>1/14/2024</td>\n",
       "      <td>O9663</td>\n",
       "      <td>8/23/2023</td>\n",
       "      <td>McDonald's</td>\n",
       "      <td>Burger</td>\n",
       "      <td>Italian</td>\n",
       "      <td>5</td>\n",
       "      <td>1478.27</td>\n",
       "      <td>Cash</td>\n",
       "      <td>38</td>\n",
       "      <td>7/19/2025</td>\n",
       "      <td>238</td>\n",
       "      <td>Active</td>\n",
       "      <td>3</td>\n",
       "      <td>10/14/2024</td>\n",
       "      <td>Cancelled</td>\n",
       "    </tr>\n",
       "    <tr>\n",
       "      <th>1</th>\n",
       "      <td>C2831</td>\n",
       "      <td>Male</td>\n",
       "      <td>Adult</td>\n",
       "      <td>Multan</td>\n",
       "      <td>7/7/2024</td>\n",
       "      <td>O6831</td>\n",
       "      <td>8/23/2023</td>\n",
       "      <td>KFC</td>\n",
       "      <td>Burger</td>\n",
       "      <td>Italian</td>\n",
       "      <td>3</td>\n",
       "      <td>956.04</td>\n",
       "      <td>Wallet</td>\n",
       "      <td>24</td>\n",
       "      <td>11/25/2024</td>\n",
       "      <td>81</td>\n",
       "      <td>Active</td>\n",
       "      <td>2</td>\n",
       "      <td>8/21/2025</td>\n",
       "      <td>Delayed</td>\n",
       "    </tr>\n",
       "    <tr>\n",
       "      <th>2</th>\n",
       "      <td>C2851</td>\n",
       "      <td>Other</td>\n",
       "      <td>Senior</td>\n",
       "      <td>Multan</td>\n",
       "      <td>6/20/2025</td>\n",
       "      <td>O6851</td>\n",
       "      <td>8/23/2023</td>\n",
       "      <td>Pizza Hut</td>\n",
       "      <td>Fries</td>\n",
       "      <td>Italian</td>\n",
       "      <td>2</td>\n",
       "      <td>882.51</td>\n",
       "      <td>Cash</td>\n",
       "      <td>42</td>\n",
       "      <td>5/10/2025</td>\n",
       "      <td>82</td>\n",
       "      <td>Inactive</td>\n",
       "      <td>3</td>\n",
       "      <td>9/19/2024</td>\n",
       "      <td>Delayed</td>\n",
       "    </tr>\n",
       "    <tr>\n",
       "      <th>3</th>\n",
       "      <td>C1694</td>\n",
       "      <td>Female</td>\n",
       "      <td>Senior</td>\n",
       "      <td>Peshawar</td>\n",
       "      <td>9/5/2023</td>\n",
       "      <td>O5694</td>\n",
       "      <td>8/23/2023</td>\n",
       "      <td>Subway</td>\n",
       "      <td>Pizza</td>\n",
       "      <td>Dessert</td>\n",
       "      <td>4</td>\n",
       "      <td>231.30</td>\n",
       "      <td>Card</td>\n",
       "      <td>27</td>\n",
       "      <td>7/24/2025</td>\n",
       "      <td>45</td>\n",
       "      <td>Inactive</td>\n",
       "      <td>2</td>\n",
       "      <td>6/29/2025</td>\n",
       "      <td>Delayed</td>\n",
       "    </tr>\n",
       "    <tr>\n",
       "      <th>4</th>\n",
       "      <td>C4339</td>\n",
       "      <td>Other</td>\n",
       "      <td>Senior</td>\n",
       "      <td>Lahore</td>\n",
       "      <td>12/29/2023</td>\n",
       "      <td>O8339</td>\n",
       "      <td>8/24/2023</td>\n",
       "      <td>KFC</td>\n",
       "      <td>Sandwich</td>\n",
       "      <td>Dessert</td>\n",
       "      <td>1</td>\n",
       "      <td>1156.69</td>\n",
       "      <td>Cash</td>\n",
       "      <td>35</td>\n",
       "      <td>12/21/2024</td>\n",
       "      <td>418</td>\n",
       "      <td>Inactive</td>\n",
       "      <td>3</td>\n",
       "      <td>3/6/2025</td>\n",
       "      <td>Cancelled</td>\n",
       "    </tr>\n",
       "  </tbody>\n",
       "</table>\n",
       "</div>"
      ],
      "text/plain": [
       "  customer_id  gender     age      city signup_date order_id order_date  \\\n",
       "0       C5663    Male   Adult  Peshawar   1/14/2024    O9663  8/23/2023   \n",
       "1       C2831    Male   Adult    Multan    7/7/2024    O6831  8/23/2023   \n",
       "2       C2851   Other  Senior    Multan   6/20/2025    O6851  8/23/2023   \n",
       "3       C1694  Female  Senior  Peshawar    9/5/2023    O5694  8/23/2023   \n",
       "4       C4339   Other  Senior    Lahore  12/29/2023    O8339  8/24/2023   \n",
       "\n",
       "  restaurant_name dish_name category  quantity    price payment_method  \\\n",
       "0      McDonald's    Burger  Italian         5  1478.27           Cash   \n",
       "1             KFC    Burger  Italian         3   956.04         Wallet   \n",
       "2       Pizza Hut     Fries  Italian         2   882.51           Cash   \n",
       "3          Subway     Pizza  Dessert         4   231.30           Card   \n",
       "4             KFC  Sandwich  Dessert         1  1156.69           Cash   \n",
       "\n",
       "   order_frequency last_order_date  loyalty_points   churned  rating  \\\n",
       "0               38       7/19/2025             238    Active       3   \n",
       "1               24      11/25/2024              81    Active       2   \n",
       "2               42       5/10/2025              82  Inactive       3   \n",
       "3               27       7/24/2025              45  Inactive       2   \n",
       "4               35      12/21/2024             418  Inactive       3   \n",
       "\n",
       "  rating_date delivery_status  \n",
       "0  10/14/2024       Cancelled  \n",
       "1   8/21/2025         Delayed  \n",
       "2   9/19/2024         Delayed  \n",
       "3   6/29/2025         Delayed  \n",
       "4    3/6/2025       Cancelled  "
      ]
     },
     "execution_count": 9,
     "metadata": {},
     "output_type": "execute_result"
    }
   ],
   "source": [
    "db = pd.read_csv(\"data/Foodpanda data.csv\")\n",
    "db.head()"
   ]
  },
  {
   "cell_type": "code",
   "execution_count": null,
   "id": "68c6a010",
   "metadata": {},
   "outputs": [
    {
     "data": {
      "text/plain": [
       "(6000, 20)"
      ]
     },
     "execution_count": 11,
     "metadata": {},
     "output_type": "execute_result"
    }
   ],
   "source": [
    "db.shape"
   ]
  },
  {
   "cell_type": "code",
   "execution_count": null,
   "id": "05b93ea3",
   "metadata": {},
   "outputs": [
    {
     "data": {
      "text/plain": [
       "Index(['customer_id', 'gender', 'age', 'city', 'signup_date', 'order_id',\n",
       "       'order_date', 'restaurant_name', 'dish_name', 'category', 'quantity',\n",
       "       'price', 'payment_method', 'order_frequency', 'last_order_date',\n",
       "       'loyalty_points', 'churned', 'rating', 'rating_date',\n",
       "       'delivery_status'],\n",
       "      dtype='object')"
      ]
     },
     "execution_count": 26,
     "metadata": {},
     "output_type": "execute_result"
    }
   ],
   "source": [
    "db.columns"
   ]
  },
  {
   "cell_type": "code",
   "execution_count": null,
   "id": "c4c2c773",
   "metadata": {},
   "outputs": [
    {
     "data": {
      "text/plain": [
       "customer_id        0\n",
       "gender             0\n",
       "age                0\n",
       "city               0\n",
       "signup_date        0\n",
       "order_id           0\n",
       "order_date         0\n",
       "restaurant_name    0\n",
       "dish_name          0\n",
       "category           0\n",
       "quantity           0\n",
       "price              0\n",
       "payment_method     0\n",
       "order_frequency    0\n",
       "last_order_date    0\n",
       "loyalty_points     0\n",
       "churned            0\n",
       "rating             0\n",
       "rating_date        0\n",
       "delivery_status    0\n",
       "dtype: int64"
      ]
     },
     "execution_count": 13,
     "metadata": {},
     "output_type": "execute_result"
    }
   ],
   "source": [
    "#check and delete missing data\n",
    "db.isnull().sum()"
   ]
  },
  {
   "cell_type": "code",
   "execution_count": null,
   "id": "aae85536",
   "metadata": {},
   "outputs": [
    {
     "data": {
      "text/plain": [
       "np.False_"
      ]
     },
     "execution_count": 30,
     "metadata": {},
     "output_type": "execute_result"
    }
   ],
   "source": [
    "#check duplicates\n",
    "db.duplicated().any()"
   ]
  },
  {
   "cell_type": "code",
   "execution_count": null,
   "id": "1b275b61",
   "metadata": {},
   "outputs": [
    {
     "data": {
      "text/plain": [
       "customer_id         object\n",
       "gender              object\n",
       "age                 object\n",
       "city                object\n",
       "signup_date         object\n",
       "order_id            object\n",
       "order_date          object\n",
       "restaurant_name     object\n",
       "dish_name           object\n",
       "category            object\n",
       "quantity             int64\n",
       "price              float64\n",
       "payment_method      object\n",
       "order_frequency      int64\n",
       "last_order_date     object\n",
       "loyalty_points       int64\n",
       "churned             object\n",
       "rating               int64\n",
       "rating_date         object\n",
       "delivery_status     object\n",
       "dtype: object"
      ]
     },
     "execution_count": 17,
     "metadata": {},
     "output_type": "execute_result"
    }
   ],
   "source": [
    "# Check types\n",
    "db.dtypes"
   ]
  },
  {
   "cell_type": "code",
   "execution_count": null,
   "id": "374d436a",
   "metadata": {},
   "outputs": [
    {
     "data": {
      "text/plain": [
       "customer_id                object\n",
       "gender                     object\n",
       "age                        object\n",
       "city                       object\n",
       "signup_date        datetime64[ns]\n",
       "order_id                   object\n",
       "order_date         datetime64[ns]\n",
       "restaurant_name            object\n",
       "dish_name                  object\n",
       "category                   object\n",
       "quantity                    int64\n",
       "price                     float64\n",
       "payment_method             object\n",
       "order_frequency             int64\n",
       "last_order_date    datetime64[ns]\n",
       "loyalty_points              int64\n",
       "churned                    object\n",
       "rating                      int64\n",
       "rating_date        datetime64[ns]\n",
       "delivery_status            object\n",
       "dtype: object"
      ]
     },
     "execution_count": 20,
     "metadata": {},
     "output_type": "execute_result"
    }
   ],
   "source": [
    "#convert date to MySQL Format\n",
    "db['signup_date'] = pd.to_datetime(db['signup_date'])\n",
    "db['order_date'] = pd.to_datetime(db['order_date'])\n",
    "db['last_order_date'] = pd.to_datetime(db['last_order_date'])\n",
    "db['rating_date'] = pd.to_datetime(db['rating_date'])\n",
    "db.dtypes"
   ]
  },
  {
   "cell_type": "code",
   "execution_count": null,
   "id": "42449f6c",
   "metadata": {},
   "outputs": [],
   "source": [
    "import pymysql\n",
    "from sqlalchemy import create_engine"
   ]
  },
  {
   "cell_type": "code",
   "execution_count": null,
   "id": "14e5e9ca",
   "metadata": {},
   "outputs": [],
   "source": []
  }
 ],
 "metadata": {
  "kernelspec": {
   "display_name": "Python 3 (ipykernel)",
   "language": "python",
   "name": "python3"
  },
  "language_info": {
   "codemirror_mode": {
    "name": "ipython",
    "version": 3
   },
   "file_extension": ".py",
   "mimetype": "text/x-python",
   "name": "python",
   "nbconvert_exporter": "python",
   "pygments_lexer": "ipython3",
   "version": "3.12.3"
  }
 },
 "nbformat": 4,
 "nbformat_minor": 5
}
